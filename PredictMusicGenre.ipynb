{
  "nbformat": 4,
  "nbformat_minor": 0,
  "metadata": {
    "colab": {
      "name": "PredictMusicGenre.ipynb",
      "provenance": [],
      "mount_file_id": "1_8I8BgV_CenGuqP3nKWdcQ5Ifr5NB2SJ",
      "authorship_tag": "ABX9TyMaTKyrovo5HpaaQqvb6ERd",
      "include_colab_link": true
    },
    "kernelspec": {
      "name": "python3",
      "display_name": "Python 3"
    },
    "language_info": {
      "name": "python"
    }
  },
  "cells": [
    {
      "cell_type": "markdown",
      "metadata": {
        "id": "view-in-github",
        "colab_type": "text"
      },
      "source": [
        "<a href=\"https://colab.research.google.com/github/AnuragRao1/PredictMusicGenre/blob/main/PredictMusicGenre.ipynb\" target=\"_parent\"><img src=\"https://colab.research.google.com/assets/colab-badge.svg\" alt=\"Open In Colab\"/></a>"
      ]
    },
    {
      "cell_type": "code",
      "execution_count": null,
      "metadata": {
        "id": "gTfwBeS4jnfN"
      },
      "outputs": [],
      "source": [
        "import numpy as np\n",
        "import pandas as pd\n",
        "import matplotlib\n",
        "from matplotlib import pyplot as plt\n",
        "import seaborn as sns\n",
        "\n",
        "\n",
        "! pip install kaggle\n",
        "! mkdir ~/.kaggle\n",
        "!cp /content/drive/MyDrive/kaggle.json ~/.kaggle/kaggle.json\n",
        "\n",
        "#download dataset\n",
        "! kaggle datasets download vicsuperman/prediction-of-music-genre\n",
        "! unzip prediction-of-music-genre.zip\n",
        "\n",
        "df = pd.read_csv(\"music_genre.csv\")\n",
        "df\n",
        "df.columns"
      ]
    },
    {
      "cell_type": "code",
      "source": [
        "#CLEAN DATASET\n",
        "#drop unnecessary columns\n",
        "df.drop(['instance_id','artist_name','track_name','key','mode','obtained_date'], inplace = True, axis = 1)\n",
        "df\n",
        "\n",
        "#drop outlier rows where duration_ms = -1\n",
        "df.drop(df[df['duration_ms'] == -1.0].index, inplace = True)\n",
        "df\n",
        "\n",
        "#drop outlier rows where tempo = ?\n",
        "df.drop(df[df['tempo'] == '?'].index, inplace = True)\n",
        "df\n",
        "\n",
        "#dropping null rows\n",
        "df.isnull().sum()\n",
        "df.drop(df[df.isnull().any(axis=1)].index, inplace = True)\n"
      ],
      "metadata": {
        "id": "qzk5VdpRugaA"
      },
      "execution_count": null,
      "outputs": []
    },
    {
      "cell_type": "code",
      "source": [
        "from seaborn.matrix import heatmap\n",
        "from numpy.ma.core import correlate\n",
        "#EDA\n",
        "df.info()\n",
        "df.describe()\n",
        "\n",
        "#convert tempo column into a floater\n",
        "df['tempo'] = pd.to_numeric(df['tempo'])\n",
        "df.info()\n",
        "\n",
        "\n",
        "#finding variables with many outliers\n",
        "ammended_df = df.loc[:, df.columns != 'music_genre'] #get df without music_genre column\n",
        "len(ammended_df.columns)\n",
        "for i in range(1,11):\n",
        "    ammended_df.boxplot(column = ammended_df.columns[i])  #popularity,instrumentalness,duration_ms,liveness,loudness,speechiness many outliers\n",
        "\n",
        "\n",
        "\n",
        "#histogram\n",
        "sns.distplot(df['tempo'])\n",
        "df['tempo'].skew()\n",
        "df['tempo'].kurt()\n",
        "\n",
        "\n"
      ],
      "metadata": {
        "id": "Fnp63GbhP7ml"
      },
      "execution_count": null,
      "outputs": []
    },
    {
      "cell_type": "code",
      "source": [
        "#MODEL\n",
        "from sklearn.model_selection import train_test_split\n",
        "train, test = train_test_split(df, test_size = 0.2, random_state=0) #splits data\n",
        "numcat = df.columns[0:11] #takes numerical categories"
      ],
      "metadata": {
        "id": "gZ8AHRstbxfK"
      },
      "execution_count": null,
      "outputs": []
    },
    {
      "cell_type": "code",
      "source": [
        "#Decision Tree\n",
        "\n",
        "from sklearn.tree import DecisionTreeClassifier\n",
        "dtc = DecisionTreeClassifier(max_depth= 25000)\n",
        "dtc.fit(train[numcat], train['music_genre'].values.reshape(-1,1))\n",
        "dtc.score(train[numcat],train['music_genre']) \n",
        "dtc.score(test[numcat],test['music_genre']) "
      ],
      "metadata": {
        "id": "GBoSOmPvZfOj"
      },
      "execution_count": null,
      "outputs": []
    },
    {
      "cell_type": "code",
      "source": [
        "#Random Forest\n",
        "from sklearn.ensemble import RandomForestClassifier\n",
        "forst = RandomForestClassifier(n_estimators = 300)\n",
        "forst.fit(train[numcat],train['music_genre'])\n",
        "forst.score(train[numcat],train['music_genre'])\n",
        "forst.score(test[numcat],test['music_genre'])\n"
      ],
      "metadata": {
        "id": "4U1Z41Z0MWy5"
      },
      "execution_count": null,
      "outputs": []
    },
    {
      "cell_type": "code",
      "source": [
        "#Gradient Boosted trees\n",
        "from sklearn.ensemble import GradientBoostingClassifier\n",
        "grad = GradientBoostingClassifier()\n",
        "grad.fit(train[numcat],train['music_genre'])\n",
        "grad.score(train[numcat],train['music_genre']) \n",
        "grad.score(test[numcat],test['music_genre'])\n"
      ],
      "metadata": {
        "id": "Xq1TvE7nmns5"
      },
      "execution_count": null,
      "outputs": []
    },
    {
      "cell_type": "code",
      "source": [
        "###More data analysis\n",
        "#convert music_genre into integer values\n",
        "from sklearn.preprocessing import OrdinalEncoder\n",
        "dfn = df.copy()\n",
        "dfn[['music_genre']] = OrdinalEncoder().fit_transform(dfn[['music_genre']])\n",
        "\n",
        "#finding most correlated variables\n",
        "corrmap = dfn.corr()\n",
        "feature = corrmap.index\n",
        "\n",
        "#plot heat map\n",
        "sns.heatmap(dfn[feature].corr(), annot = True)\n",
        "corrmap['music_genre']\n",
        "\n",
        "\n",
        "# this gives us the most correlated variables of danceability, popularity,loudness,speechiness, instrumentalness, acousticness\n",
        "good_features = ['danceability','popularity','loudness','speechiness','instrumentalness', 'acousticness','music_genre']\n",
        "\n",
        "\n"
      ],
      "metadata": {
        "id": "FaNXs295tuQJ"
      },
      "execution_count": null,
      "outputs": []
    },
    {
      "cell_type": "code",
      "source": [
        "##Build new model with heavily correlated variables\n",
        "train_g = train[good_features]\n",
        "test_g = test[good_features]\n",
        "numgf = train_g.columns[1:6] #takes numerical columns\n"
      ],
      "metadata": {
        "id": "3B7ZC4cpfgLh"
      },
      "execution_count": null,
      "outputs": []
    },
    {
      "cell_type": "code",
      "source": [
        "#Decision Tree\n",
        "\n",
        "from sklearn.tree import DecisionTreeClassifier\n",
        "dtc1 = DecisionTreeClassifier(max_depth= 25000)\n",
        "dtc1.fit(train_g[numgf], train_g['music_genre'])\n",
        "dtc1.score(train_g[numgf], train_g['music_genre']) \n",
        "dtc1.score(test_g[numgf], test_g['music_genre']) \n"
      ],
      "metadata": {
        "id": "CqEc2D0vyJGS"
      },
      "execution_count": null,
      "outputs": []
    },
    {
      "cell_type": "code",
      "source": [
        "#Genre data analysis\n",
        "#simplify problem, pull genres\n",
        "output = []\n",
        "for x in df['music_genre']:\n",
        "  if x not in output:\n",
        "    output.append(x)\n",
        "output\n",
        "\n",
        "#genre analysis\n",
        "\n",
        "#boxplot by genre\n",
        "sns.boxplot(df['music_genre'],df['acousticness'])\n",
        "\n",
        "#skew by genre and attribute\n",
        "genskew = {}\n",
        "col = df.columns.values[1:11]\n",
        "col\n",
        "for x in output:\n",
        "  genskew[x] = {}\n",
        "  for y in col:\n",
        "    xdf = df[df['music_genre'] == x]\n",
        "    genskew[x][y] = xdf[y].skew()\n",
        "genskew\n",
        "\n",
        "#kurtosis by genre and attribute\n",
        "genkurt = {}\n",
        "for x in output:\n",
        "  genkurt[x] = {}\n",
        "  for y in col:\n",
        "    xdf = df[df['music_genre'] == x]\n",
        "    genkurt[x][y] = xdf[y].kurt()\n",
        "genkurt"
      ],
      "metadata": {
        "id": "5gCbPHJFpZ7r"
      },
      "execution_count": null,
      "outputs": []
    },
    {
      "cell_type": "code",
      "source": [
        "#create a dataframe for ridding genres\n",
        "df_genre = df.copy()\n",
        "df_genre.drop(df_genre[df_genre['music_genre'] == 'Hip-Hop'].index, inplace = True)\n",
        "df_genre\n",
        "\n",
        "#train/test split\n",
        "train_genre, test_genre = train_test_split(df_genre, test_size = 0.2, random_state=0) \n",
        "numcat = df_genre.columns[0:11] #takes numerical categories"
      ],
      "metadata": {
        "id": "j_kyfq9KrD91"
      },
      "execution_count": null,
      "outputs": []
    },
    {
      "cell_type": "code",
      "source": [
        "#Decision Tree\n",
        "from sklearn.tree import DecisionTreeClassifier\n",
        "dtc_genre = DecisionTreeClassifier(max_depth= 25000)\n",
        "dtc_genre.fit(train_genre[numgf], train_genre['music_genre'])\n",
        "dtc_genre.score(train_genre[numgf], train_genre['music_genre'])\n",
        "dtc_genre.score(test_genre[numgf], test_genre['music_genre']) \n"
      ],
      "metadata": {
        "id": "ytwvhG8lsOce"
      },
      "execution_count": null,
      "outputs": []
    },
    {
      "cell_type": "code",
      "source": [
        "#Random Forest\n",
        "from sklearn.ensemble import RandomForestClassifier\n",
        "forst = RandomForestClassifier(n_estimators = 300)\n",
        "forst.fit(train_genre[numgf], train_genre['music_genre'])\n",
        "forst.score(train_genre[numgf], train_genre['music_genre'])\n",
        "forst.score(test_genre[numgf], test_genre['music_genre'])"
      ],
      "metadata": {
        "id": "nq0FgX3MbqGb"
      },
      "execution_count": null,
      "outputs": []
    },
    {
      "cell_type": "code",
      "source": [
        "#Gradient Boosted trees\n",
        "from sklearn.ensemble import GradientBoostingClassifier\n",
        "grad = GradientBoostingClassifier()\n",
        "grad.fit(train_genre[numgf], train_genre['music_genre'])\n",
        "grad.score(train_genre[numgf], train_genre['music_genre']) \n",
        "grad.score(train_genre[numgf], train_genre['music_genre'])\n"
      ],
      "metadata": {
        "id": "EOr74KwZk3R1"
      },
      "execution_count": null,
      "outputs": []
    }
  ]
}
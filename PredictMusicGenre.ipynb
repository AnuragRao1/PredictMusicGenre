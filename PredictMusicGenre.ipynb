{
  "nbformat": 4,
  "nbformat_minor": 0,
  "metadata": {
    "colab": {
      "name": "PredictMusicGenre.ipynb",
      "provenance": [],
      "mount_file_id": "1_8I8BgV_CenGuqP3nKWdcQ5Ifr5NB2SJ",
      "authorship_tag": "ABX9TyMaTKyrovo5HpaaQqvb6ERd",
      "include_colab_link": true
    },
    "kernelspec": {
      "name": "python3",
      "display_name": "Python 3"
    },
    "language_info": {
      "name": "python"
    }
  },
  "cells": [
    {
      "cell_type": "markdown",
      "metadata": {
        "id": "view-in-github",
        "colab_type": "text"
      },
      "source": [
        "<a href=\"https://colab.research.google.com/github/AnuragRao1/PredictMusicGenre/blob/main/PredictMusicGenre.ipynb\" target=\"_parent\"><img src=\"https://colab.research.google.com/assets/colab-badge.svg\" alt=\"Open In Colab\"/></a>"
      ]
    },
    {
      "cell_type": "code",
      "execution_count": 1,
      "metadata": {
        "colab": {
          "base_uri": "https://localhost:8080/"
        },
        "id": "gTfwBeS4jnfN",
        "outputId": "8d26f15a-fd66-4be0-aa4e-bd1af61c308d"
      },
      "outputs": [
        {
          "output_type": "stream",
          "name": "stdout",
          "text": [
            "Looking in indexes: https://pypi.org/simple, https://us-python.pkg.dev/colab-wheels/public/simple/\n",
            "Requirement already satisfied: kaggle in /usr/local/lib/python3.7/dist-packages (1.5.12)\n",
            "Requirement already satisfied: six>=1.10 in /usr/local/lib/python3.7/dist-packages (from kaggle) (1.15.0)\n",
            "Requirement already satisfied: tqdm in /usr/local/lib/python3.7/dist-packages (from kaggle) (4.64.0)\n",
            "Requirement already satisfied: urllib3 in /usr/local/lib/python3.7/dist-packages (from kaggle) (1.24.3)\n",
            "Requirement already satisfied: python-slugify in /usr/local/lib/python3.7/dist-packages (from kaggle) (6.1.2)\n",
            "Requirement already satisfied: certifi in /usr/local/lib/python3.7/dist-packages (from kaggle) (2022.6.15)\n",
            "Requirement already satisfied: requests in /usr/local/lib/python3.7/dist-packages (from kaggle) (2.23.0)\n",
            "Requirement already satisfied: python-dateutil in /usr/local/lib/python3.7/dist-packages (from kaggle) (2.8.2)\n",
            "Requirement already satisfied: text-unidecode>=1.3 in /usr/local/lib/python3.7/dist-packages (from python-slugify->kaggle) (1.3)\n",
            "Requirement already satisfied: idna<3,>=2.5 in /usr/local/lib/python3.7/dist-packages (from requests->kaggle) (2.10)\n",
            "Requirement already satisfied: chardet<4,>=3.0.2 in /usr/local/lib/python3.7/dist-packages (from requests->kaggle) (3.0.4)\n",
            "Downloading prediction-of-music-genre.zip to /content\n",
            "  0% 0.00/2.72M [00:00<?, ?B/s]\n",
            "100% 2.72M/2.72M [00:00<00:00, 199MB/s]\n",
            "Archive:  prediction-of-music-genre.zip\n",
            "  inflating: music_genre.csv         \n"
          ]
        },
        {
          "output_type": "execute_result",
          "data": {
            "text/plain": [
              "Index(['instance_id', 'artist_name', 'track_name', 'popularity',\n",
              "       'acousticness', 'danceability', 'duration_ms', 'energy',\n",
              "       'instrumentalness', 'key', 'liveness', 'loudness', 'mode',\n",
              "       'speechiness', 'tempo', 'obtained_date', 'valence', 'music_genre'],\n",
              "      dtype='object')"
            ]
          },
          "metadata": {},
          "execution_count": 1
        }
      ],
      "source": [
        "import numpy as np\n",
        "import pandas as pd\n",
        "import matplotlib\n",
        "from matplotlib import pyplot as plt\n",
        "import seaborn as sns\n",
        "\n",
        "\n",
        "! pip install kaggle\n",
        "! mkdir ~/.kaggle\n",
        "!cp /content/drive/MyDrive/kaggle.json ~/.kaggle/kaggle.json\n",
        "\n",
        "#download dataset\n",
        "! kaggle datasets download vicsuperman/prediction-of-music-genre\n",
        "! unzip prediction-of-music-genre.zip\n",
        "\n",
        "df = pd.read_csv(\"music_genre.csv\")\n",
        "df\n",
        "df.columns"
      ]
    },
    {
      "cell_type": "code",
      "source": [
        "#CLEAN DATASET\n",
        "#drop unnecessary columns\n",
        "df.drop(['instance_id','artist_name','track_name','key','mode','obtained_date'], inplace = True, axis = 1)\n",
        "df\n",
        "\n",
        "#drop outlier rows where duration_ms = -1\n",
        "df.drop(df[df['duration_ms'] == -1.0].index, inplace = True)\n",
        "df\n",
        "\n",
        "#drop outlier rows where tempo = ?\n",
        "df.drop(df[df['tempo'] == '?'].index, inplace = True)\n",
        "df\n",
        "\n",
        "#dropping null rows\n",
        "df.isnull().sum()\n",
        "df.drop(df[df.isnull().any(axis=1)].index, inplace = True)\n"
      ],
      "metadata": {
        "id": "qzk5VdpRugaA"
      },
      "execution_count": 2,
      "outputs": []
    },
    {
      "cell_type": "code",
      "source": [
        "from seaborn.matrix import heatmap\n",
        "from numpy.ma.core import correlate\n",
        "#EDA\n",
        "df.info()\n",
        "df.describe()\n",
        "\n",
        "#convert tempo column into a floater\n",
        "df['tempo'] = pd.to_numeric(df['tempo'])\n",
        "df.info()\n",
        "\n",
        "\n",
        "#finding variables with many outliers\n",
        "ammended_df = df.loc[:, df.columns != 'music_genre'] #get df without music_genre column\n",
        "len(ammended_df.columns)\n",
        "for i in range(1,11):\n",
        "    ammended_df.boxplot(column = ammended_df.columns[i])  #popularity,instrumentalness,duration_ms,liveness,loudness,speechiness many outliers\n",
        "\n",
        "\n",
        "\n",
        "#histogram\n",
        "sns.distplot(df['tempo'])\n",
        "df['tempo'].skew()\n",
        "df['tempo'].kurt()\n",
        "\n",
        "\n"
      ],
      "metadata": {
        "colab": {
          "base_uri": "https://localhost:8080/",
          "height": 1000
        },
        "id": "Fnp63GbhP7ml",
        "outputId": "90513e41-4085-4937-f018-454da5247726"
      },
      "execution_count": 3,
      "outputs": [
        {
          "output_type": "stream",
          "name": "stdout",
          "text": [
            "<class 'pandas.core.frame.DataFrame'>\n",
            "Int64Index: 40560 entries, 1 to 50004\n",
            "Data columns (total 12 columns):\n",
            " #   Column            Non-Null Count  Dtype  \n",
            "---  ------            --------------  -----  \n",
            " 0   popularity        40560 non-null  float64\n",
            " 1   acousticness      40560 non-null  float64\n",
            " 2   danceability      40560 non-null  float64\n",
            " 3   duration_ms       40560 non-null  float64\n",
            " 4   energy            40560 non-null  float64\n",
            " 5   instrumentalness  40560 non-null  float64\n",
            " 6   liveness          40560 non-null  float64\n",
            " 7   loudness          40560 non-null  float64\n",
            " 8   speechiness       40560 non-null  float64\n",
            " 9   tempo             40560 non-null  object \n",
            " 10  valence           40560 non-null  float64\n",
            " 11  music_genre       40560 non-null  object \n",
            "dtypes: float64(10), object(2)\n",
            "memory usage: 4.0+ MB\n",
            "<class 'pandas.core.frame.DataFrame'>\n",
            "Int64Index: 40560 entries, 1 to 50004\n",
            "Data columns (total 12 columns):\n",
            " #   Column            Non-Null Count  Dtype  \n",
            "---  ------            --------------  -----  \n",
            " 0   popularity        40560 non-null  float64\n",
            " 1   acousticness      40560 non-null  float64\n",
            " 2   danceability      40560 non-null  float64\n",
            " 3   duration_ms       40560 non-null  float64\n",
            " 4   energy            40560 non-null  float64\n",
            " 5   instrumentalness  40560 non-null  float64\n",
            " 6   liveness          40560 non-null  float64\n",
            " 7   loudness          40560 non-null  float64\n",
            " 8   speechiness       40560 non-null  float64\n",
            " 9   tempo             40560 non-null  float64\n",
            " 10  valence           40560 non-null  float64\n",
            " 11  music_genre       40560 non-null  object \n",
            "dtypes: float64(11), object(1)\n",
            "memory usage: 4.0+ MB\n"
          ]
        },
        {
          "output_type": "stream",
          "name": "stderr",
          "text": [
            "/usr/local/lib/python3.7/dist-packages/seaborn/distributions.py:2619: FutureWarning: `distplot` is a deprecated function and will be removed in a future version. Please adapt your code to use either `displot` (a figure-level function with similar flexibility) or `histplot` (an axes-level function for histograms).\n",
            "  warnings.warn(msg, FutureWarning)\n"
          ]
        },
        {
          "output_type": "execute_result",
          "data": {
            "text/plain": [
              "-0.5631848566756203"
            ]
          },
          "metadata": {},
          "execution_count": 3
        },
        {
          "output_type": "display_data",
          "data": {
            "text/plain": [
              "<Figure size 432x288 with 1 Axes>"
            ],
            "image/png": "[encoded data removed]"
          },
          "metadata": {
            "needs_background": "light"
          }
        }
      ]
    },
    {
      "cell_type": "code",
      "source": [
        "#MODEL\n",
        "from sklearn.model_selection import train_test_split\n",
        "train, test = train_test_split(df, test_size = 0.2, random_state=0) #splits data\n",
        "numcat = df.columns[0:11] #takes numerical categories"
      ],
      "metadata": {
        "id": "gZ8AHRstbxfK"
      },
      "execution_count": 4,
      "outputs": []
    },
    {
      "cell_type": "code",
      "source": [
        "#Decision Tree\n",
        "\n",
        "from sklearn.tree import DecisionTreeClassifier\n",
        "dtc = DecisionTreeClassifier(max_depth= 25000)\n",
        "dtc.fit(train[numcat], train['music_genre'].values.reshape(-1,1))\n",
        "dtc.score(train[numcat],train['music_genre']) \n",
        "dtc.score(test[numcat],test['music_genre']) "
      ],
      "metadata": {
        "colab": {
          "base_uri": "https://localhost:8080/"
        },
        "id": "GBoSOmPvZfOj",
        "outputId": "7942ddfa-b876-49e0-e382-bd531dfd58ed"
      },
      "execution_count": 5,
      "outputs": [
        {
          "output_type": "execute_result",
          "data": {
            "text/plain": [
              "0.4349112426035503"
            ]
          },
          "metadata": {},
          "execution_count": 5
        }
      ]
    },
    {
      "cell_type": "code",
      "source": [
        "#Random Forest\n",
        "from sklearn.ensemble import RandomForestClassifier\n",
        "forst = RandomForestClassifier(n_estimators = 300)\n",
        "forst.fit(train[numcat],train['music_genre'])\n",
        "forst.score(train[numcat],train['music_genre'])\n",
        "forst.score(test[numcat],test['music_genre'])\n"
      ],
      "metadata": {
        "colab": {
          "base_uri": "https://localhost:8080/"
        },
        "id": "4U1Z41Z0MWy5",
        "outputId": "b861a9b3-fa9b-4b84-fef0-1b26d0beebb5"
      },
      "execution_count": 7,
      "outputs": [
        {
          "output_type": "execute_result",
          "data": {
            "text/plain": [
              "0.5506656804733728"
            ]
          },
          "metadata": {},
          "execution_count": 7
        }
      ]
    },
    {
      "cell_type": "code",
      "source": [
        "#Gradient Boosted trees\n",
        "from sklearn.ensemble import GradientBoostingClassifier\n",
        "grad = GradientBoostingClassifier()\n",
        "grad.fit(train[numcat],train['music_genre'])\n",
        "grad.score(train[numcat],train['music_genre']) \n",
        "grad.score(test[numcat],test['music_genre'])\n"
      ],
      "metadata": {
        "colab": {
          "base_uri": "https://localhost:8080/"
        },
        "id": "Xq1TvE7nmns5",
        "outputId": "5f39cea5-6afb-4a5f-a5c3-72d16cb0734e"
      },
      "execution_count": 50,
      "outputs": [
        {
          "output_type": "execute_result",
          "data": {
            "text/plain": [
              "0.5774161735700197"
            ]
          },
          "metadata": {},
          "execution_count": 50
        }
      ]
    },
    {
      "cell_type": "code",
      "source": [
        "###More data analysis\n",
        "#convert music_genre into integer values\n",
        "from sklearn.preprocessing import OrdinalEncoder\n",
        "dfn = df.copy()\n",
        "dfn[['music_genre']] = OrdinalEncoder().fit_transform(dfn[['music_genre']])\n",
        "\n",
        "#finding most correlated variables\n",
        "corrmap = dfn.corr()\n",
        "feature = corrmap.index\n",
        "\n",
        "#plot heat map\n",
        "sns.heatmap(dfn[feature].corr(), annot = True)\n",
        "corrmap['music_genre']\n",
        "\n",
        "\n",
        "# this gives us the most correlated variables of danceability, popularity,loudness,speechiness, instrumentalness, acousticness\n",
        "good_features = ['danceability','popularity','loudness','speechiness','instrumentalness', 'acousticness','music_genre']\n",
        "\n",
        "\n"
      ],
      "metadata": {
        "colab": {
          "base_uri": "https://localhost:8080/",
          "height": 346
        },
        "id": "FaNXs295tuQJ",
        "outputId": "af06f561-6db2-4eb5-9663-05760178f691"
      },
      "execution_count": 6,
      "outputs": [
        {
          "output_type": "display_data",
          "data": {
            "text/plain": [
              "<Figure size 432x288 with 2 Axes>"
            ],
            "image/png": "[encoded data removed]"
          },
          "metadata": {
            "needs_background": "light"
          }
        }
      ]
    },
    {
      "cell_type": "code",
      "source": [
        "##Build new model with heavily correlated variables\n",
        "train_g = train[good_features]\n",
        "test_g = test[good_features]\n",
        "numgf = train_g.columns[1:6] #takes numerical columns\n"
      ],
      "metadata": {
        "id": "3B7ZC4cpfgLh"
      },
      "execution_count": 15,
      "outputs": []
    },
    {
      "cell_type": "code",
      "source": [
        "#Decision Tree\n",
        "\n",
        "from sklearn.tree import DecisionTreeClassifier\n",
        "dtc1 = DecisionTreeClassifier(max_depth= 25000)\n",
        "dtc1.fit(train_g[numgf], train_g['music_genre'])\n",
        "dtc1.score(train_g[numgf], train_g['music_genre']) \n",
        "dtc1.score(test_g[numgf], test_g['music_genre']) \n"
      ],
      "metadata": {
        "colab": {
          "base_uri": "https://localhost:8080/"
        },
        "id": "CqEc2D0vyJGS",
        "outputId": "2b1aae1e-0620-45e0-c9b1-1d59ff4f849e"
      },
      "execution_count": 36,
      "outputs": [
        {
          "output_type": "execute_result",
          "data": {
            "text/plain": [
              "0.3827662721893491"
            ]
          },
          "metadata": {},
          "execution_count": 36
        }
      ]
    },
    {
      "cell_type": "code",
      "source": [
        "#Genre data analysis\n",
        "#simplify problem, pull genres\n",
        "output = []\n",
        "for x in df['music_genre']:\n",
        "  if x not in output:\n",
        "    output.append(x)\n",
        "output\n",
        "\n",
        "#genre analysis\n",
        "\n",
        "#boxplot by genre\n",
        "sns.boxplot(df['music_genre'],df['acousticness'])\n",
        "\n",
        "#skew by genre and attribute\n",
        "genskew = {}\n",
        "col = df.columns.values[1:11]\n",
        "col\n",
        "for x in output:\n",
        "  genskew[x] = {}\n",
        "  for y in col:\n",
        "    xdf = df[df['music_genre'] == x]\n",
        "    genskew[x][y] = xdf[y].skew()\n",
        "genskew\n",
        "\n",
        "#kurtosis by genre and attribute\n",
        "genkurt = {}\n",
        "for x in output:\n",
        "  genkurt[x] = {}\n",
        "  for y in col:\n",
        "    xdf = df[df['music_genre'] == x]\n",
        "    genkurt[x][y] = xdf[y].kurt()\n",
        "genkurt"
      ],
      "metadata": {
        "colab": {
          "base_uri": "https://localhost:8080/"
        },
        "id": "5gCbPHJFpZ7r",
        "outputId": "93038021-83b6-4fbd-b986-323c41c0dee0"
      },
      "execution_count": 7,
      "outputs": [
        {
          "output_type": "execute_result",
          "data": {
            "text/plain": [
              "['Electronic',\n",
              " 'Anime',\n",
              " 'Jazz',\n",
              " 'Alternative',\n",
              " 'Country',\n",
              " 'Rap',\n",
              " 'Blues',\n",
              " 'Rock',\n",
              " 'Classical',\n",
              " 'Hip-Hop']"
            ]
          },
          "metadata": {},
          "execution_count": 7
        }
      ]
    },
    {
      "cell_type": "code",
      "source": [
        "#create a dataframe for ridding genres\n",
        "df_genre = df.copy()\n",
        "df_genre.drop(df_genre[df_genre['music_genre'] == 'Hip-Hop'].index, inplace = True)\n",
        "df_genre\n",
        "\n",
        "#train/test split\n",
        "train_genre, test_genre = train_test_split(df_genre, test_size = 0.2, random_state=0) \n",
        "numcat = df_genre.columns[0:11] #takes numerical categories"
      ],
      "metadata": {
        "id": "j_kyfq9KrD91"
      },
      "execution_count": 59,
      "outputs": []
    },
    {
      "cell_type": "code",
      "source": [
        "#Decision Tree\n",
        "from sklearn.tree import DecisionTreeClassifier\n",
        "dtc_genre = DecisionTreeClassifier(max_depth= 25000)\n",
        "dtc_genre.fit(train_genre[numgf], train_genre['music_genre'])\n",
        "dtc_genre.score(train_genre[numgf], train_genre['music_genre'])\n",
        "dtc_genre.score(test_genre[numgf], test_genre['music_genre']) \n"
      ],
      "metadata": {
        "colab": {
          "base_uri": "https://localhost:8080/"
        },
        "id": "ytwvhG8lsOce",
        "outputId": "5bf8ae2e-bc9c-424f-bc9d-5bd615c09c17"
      },
      "execution_count": 40,
      "outputs": [
        {
          "output_type": "execute_result",
          "data": {
            "text/plain": [
              "0.45465761875385563"
            ]
          },
          "metadata": {},
          "execution_count": 40
        }
      ]
    },
    {
      "cell_type": "code",
      "source": [
        "#Random Forest\n",
        "from sklearn.ensemble import RandomForestClassifier\n",
        "forst = RandomForestClassifier(n_estimators = 300)\n",
        "forst.fit(train_genre[numgf], train_genre['music_genre'])\n",
        "forst.score(train_genre[numgf], train_genre['music_genre'])\n",
        "forst.score(test_genre[numgf], test_genre['music_genre'])"
      ],
      "metadata": {
        "colab": {
          "base_uri": "https://localhost:8080/"
        },
        "id": "nq0FgX3MbqGb",
        "outputId": "b77d41a0-a5bb-40ea-de1e-f7668c6dc0c2"
      },
      "execution_count": 42,
      "outputs": [
        {
          "output_type": "execute_result",
          "data": {
            "text/plain": [
              "RandomForestClassifier(n_estimators=300)"
            ]
          },
          "metadata": {},
          "execution_count": 42
        }
      ]
    },
    {
      "cell_type": "code",
      "source": [
        "#Gradient Boosted trees\n",
        "from sklearn.ensemble import GradientBoostingClassifier\n",
        "grad = GradientBoostingClassifier()\n",
        "grad.fit(train_genre[numgf], train_genre['music_genre'])\n",
        "grad.score(train_genre[numgf], train_genre['music_genre']) \n",
        "grad.score(train_genre[numgf], train_genre['music_genre'])\n"
      ],
      "metadata": {
        "colab": {
          "base_uri": "https://localhost:8080/"
        },
        "id": "EOr74KwZk3R1",
        "outputId": "c9acaa9b-d9e2-43ba-a0c6-de6c625ec602"
      },
      "execution_count": 64,
      "outputs": [
        {
          "output_type": "execute_result",
          "data": {
            "text/plain": [
              "0.6079284588501336"
            ]
          },
          "metadata": {},
          "execution_count": 64
        }
      ]
    }
  ]
}